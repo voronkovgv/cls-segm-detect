{
  "nbformat": 4,
  "nbformat_minor": 0,
  "metadata": {
    "colab": {
      "provenance": []
    },
    "kernelspec": {
      "name": "python3",
      "display_name": "Python 3"
    },
    "language_info": {
      "name": "python"
    },
    "gpuClass": "standard",
    "accelerator": "GPU"
  },
  "cells": [
    {
      "cell_type": "code",
      "source": [
        "!pip install albumentations==1.2.1\n",
        "!pip install timm\n",
        "!pip install openvino\n",
        "import timm\n",
        "import os\n",
        "import zipfile\n",
        "import pathlib\n",
        "import sklearn\n",
        "import torchvision\n",
        "import random\n",
        "import torch\n",
        "import torch.nn.functional as F\n",
        "import numpy as np\n",
        "import albumentations as A\n",
        "from albumentations.pytorch import ToTensorV2\n",
        "from torch import nn, optim\n",
        "from torch.utils.data import Dataset\n",
        "from torch.utils.data import DataLoader\n",
        "from torch.utils.data import random_split\n",
        "import torchvision.transforms as tt\n",
        "from torchvision.utils import make_grid\n",
        "from tqdm import tqdm\n",
        "from PIL import Image\n",
        "import matplotlib\n",
        "import matplotlib.pyplot as plt\n",
        "from sklearn.linear_model import LogisticRegression\n",
        "from types import SimpleNamespace\n",
        "from sklearn.model_selection import train_test_split\n",
        "from sklearn.metrics import log_loss\n",
        "import cv2\n",
        "from tqdm import tqdm\n",
        "import gc\n",
        "from google.colab.patches import cv2_imshow\n",
        "from torch.utils.tensorboard import SummaryWriter\n",
        "from torch.optim.swa_utils import AveragedModel, SWALR\n",
        "from google.colab import drive\n",
        "drive.mount('/content/drive')\n",
        "%matplotlib inline\n",
        "\n",
        "os.environ['PYTHONHASHSEED'] = str(27)\n",
        "random.seed(27)\n",
        "np.random.seed(27)\n",
        "torch.manual_seed(27)\n",
        "torch.cuda.manual_seed(27)\n",
        "torch.cuda.manual_seed_all(27)\n",
        "torch.backends.cudnn.deterministic = True\n",
        "torch.backends.cudnn.benchmark = False"
      ],
      "metadata": {
        "id": "FI0WZN9QjtMT",
        "colab": {
          "base_uri": "https://localhost:8080/"
        },
        "outputId": "7ebe1fd9-e80f-4175-9fac-d9beb6725f60"
      },
      "execution_count": null,
      "outputs": [
        {
          "output_type": "stream",
          "name": "stdout",
          "text": [
            "Looking in indexes: https://pypi.org/simple, https://us-python.pkg.dev/colab-wheels/public/simple/\n",
            "Requirement already satisfied: albumentations==1.2.1 in /usr/local/lib/python3.7/dist-packages (1.2.1)\n",
            "Requirement already satisfied: numpy>=1.11.1 in /usr/local/lib/python3.7/dist-packages (from albumentations==1.2.1) (1.21.6)\n",
            "Requirement already satisfied: scipy in /usr/local/lib/python3.7/dist-packages (from albumentations==1.2.1) (1.7.3)\n",
            "Requirement already satisfied: PyYAML in /usr/local/lib/python3.7/dist-packages (from albumentations==1.2.1) (6.0)\n",
            "Requirement already satisfied: qudida>=0.0.4 in /usr/local/lib/python3.7/dist-packages (from albumentations==1.2.1) (0.0.4)\n",
            "Requirement already satisfied: scikit-image>=0.16.1 in /usr/local/lib/python3.7/dist-packages (from albumentations==1.2.1) (0.18.3)\n",
            "Requirement already satisfied: opencv-python-headless>=4.1.1 in /usr/local/lib/python3.7/dist-packages (from albumentations==1.2.1) (4.6.0.66)\n",
            "Requirement already satisfied: typing-extensions in /usr/local/lib/python3.7/dist-packages (from qudida>=0.0.4->albumentations==1.2.1) (4.1.1)\n",
            "Requirement already satisfied: scikit-learn>=0.19.1 in /usr/local/lib/python3.7/dist-packages (from qudida>=0.0.4->albumentations==1.2.1) (1.0.2)\n",
            "Requirement already satisfied: tifffile>=2019.7.26 in /usr/local/lib/python3.7/dist-packages (from scikit-image>=0.16.1->albumentations==1.2.1) (2021.11.2)\n",
            "Requirement already satisfied: imageio>=2.3.0 in /usr/local/lib/python3.7/dist-packages (from scikit-image>=0.16.1->albumentations==1.2.1) (2.9.0)\n",
            "Requirement already satisfied: PyWavelets>=1.1.1 in /usr/local/lib/python3.7/dist-packages (from scikit-image>=0.16.1->albumentations==1.2.1) (1.3.0)\n",
            "Requirement already satisfied: networkx>=2.0 in /usr/local/lib/python3.7/dist-packages (from scikit-image>=0.16.1->albumentations==1.2.1) (2.6.3)\n",
            "Requirement already satisfied: pillow!=7.1.0,!=7.1.1,>=4.3.0 in /usr/local/lib/python3.7/dist-packages (from scikit-image>=0.16.1->albumentations==1.2.1) (7.1.2)\n",
            "Requirement already satisfied: matplotlib!=3.0.0,>=2.0.0 in /usr/local/lib/python3.7/dist-packages (from scikit-image>=0.16.1->albumentations==1.2.1) (3.2.2)\n",
            "Requirement already satisfied: kiwisolver>=1.0.1 in /usr/local/lib/python3.7/dist-packages (from matplotlib!=3.0.0,>=2.0.0->scikit-image>=0.16.1->albumentations==1.2.1) (1.4.4)\n",
            "Requirement already satisfied: pyparsing!=2.0.4,!=2.1.2,!=2.1.6,>=2.0.1 in /usr/local/lib/python3.7/dist-packages (from matplotlib!=3.0.0,>=2.0.0->scikit-image>=0.16.1->albumentations==1.2.1) (3.0.9)\n",
            "Requirement already satisfied: python-dateutil>=2.1 in /usr/local/lib/python3.7/dist-packages (from matplotlib!=3.0.0,>=2.0.0->scikit-image>=0.16.1->albumentations==1.2.1) (2.8.2)\n",
            "Requirement already satisfied: cycler>=0.10 in /usr/local/lib/python3.7/dist-packages (from matplotlib!=3.0.0,>=2.0.0->scikit-image>=0.16.1->albumentations==1.2.1) (0.11.0)\n",
            "Requirement already satisfied: six>=1.5 in /usr/local/lib/python3.7/dist-packages (from python-dateutil>=2.1->matplotlib!=3.0.0,>=2.0.0->scikit-image>=0.16.1->albumentations==1.2.1) (1.15.0)\n",
            "Requirement already satisfied: threadpoolctl>=2.0.0 in /usr/local/lib/python3.7/dist-packages (from scikit-learn>=0.19.1->qudida>=0.0.4->albumentations==1.2.1) (3.1.0)\n",
            "Requirement already satisfied: joblib>=0.11 in /usr/local/lib/python3.7/dist-packages (from scikit-learn>=0.19.1->qudida>=0.0.4->albumentations==1.2.1) (1.2.0)\n",
            "Looking in indexes: https://pypi.org/simple, https://us-python.pkg.dev/colab-wheels/public/simple/\n",
            "Collecting timm\n",
            "  Downloading timm-0.6.11-py3-none-any.whl (548 kB)\n",
            "\u001b[K     |████████████████████████████████| 548 kB 27.4 MB/s \n",
            "\u001b[?25hRequirement already satisfied: pyyaml in /usr/local/lib/python3.7/dist-packages (from timm) (6.0)\n",
            "Requirement already satisfied: torch>=1.7 in /usr/local/lib/python3.7/dist-packages (from timm) (1.12.1+cu113)\n",
            "Requirement already satisfied: torchvision in /usr/local/lib/python3.7/dist-packages (from timm) (0.13.1+cu113)\n",
            "Collecting huggingface-hub\n",
            "  Downloading huggingface_hub-0.10.1-py3-none-any.whl (163 kB)\n",
            "\u001b[K     |████████████████████████████████| 163 kB 68.0 MB/s \n",
            "\u001b[?25hRequirement already satisfied: typing-extensions in /usr/local/lib/python3.7/dist-packages (from torch>=1.7->timm) (4.1.1)\n",
            "Requirement already satisfied: requests in /usr/local/lib/python3.7/dist-packages (from huggingface-hub->timm) (2.23.0)\n",
            "Requirement already satisfied: tqdm in /usr/local/lib/python3.7/dist-packages (from huggingface-hub->timm) (4.64.1)\n",
            "Requirement already satisfied: packaging>=20.9 in /usr/local/lib/python3.7/dist-packages (from huggingface-hub->timm) (21.3)\n",
            "Requirement already satisfied: filelock in /usr/local/lib/python3.7/dist-packages (from huggingface-hub->timm) (3.8.0)\n",
            "Requirement already satisfied: importlib-metadata in /usr/local/lib/python3.7/dist-packages (from huggingface-hub->timm) (5.0.0)\n",
            "Requirement already satisfied: pyparsing!=3.0.5,>=2.0.2 in /usr/local/lib/python3.7/dist-packages (from packaging>=20.9->huggingface-hub->timm) (3.0.9)\n",
            "Requirement already satisfied: zipp>=0.5 in /usr/local/lib/python3.7/dist-packages (from importlib-metadata->huggingface-hub->timm) (3.8.1)\n",
            "Requirement already satisfied: urllib3!=1.25.0,!=1.25.1,<1.26,>=1.21.1 in /usr/local/lib/python3.7/dist-packages (from requests->huggingface-hub->timm) (1.24.3)\n",
            "Requirement already satisfied: idna<3,>=2.5 in /usr/local/lib/python3.7/dist-packages (from requests->huggingface-hub->timm) (2.10)\n",
            "Requirement already satisfied: chardet<4,>=3.0.2 in /usr/local/lib/python3.7/dist-packages (from requests->huggingface-hub->timm) (3.0.4)\n",
            "Requirement already satisfied: certifi>=2017.4.17 in /usr/local/lib/python3.7/dist-packages (from requests->huggingface-hub->timm) (2022.9.24)\n",
            "Requirement already satisfied: pillow!=8.3.*,>=5.3.0 in /usr/local/lib/python3.7/dist-packages (from torchvision->timm) (7.1.2)\n",
            "Requirement already satisfied: numpy in /usr/local/lib/python3.7/dist-packages (from torchvision->timm) (1.21.6)\n",
            "Installing collected packages: huggingface-hub, timm\n",
            "Successfully installed huggingface-hub-0.10.1 timm-0.6.11\n",
            "Looking in indexes: https://pypi.org/simple, https://us-python.pkg.dev/colab-wheels/public/simple/\n",
            "Collecting openvino\n",
            "  Downloading openvino-2022.2.0-7713-cp37-cp37m-manylinux_2_27_x86_64.whl (26.8 MB)\n",
            "\u001b[K     |████████████████████████████████| 26.8 MB 15.0 MB/s \n",
            "\u001b[?25hRequirement already satisfied: numpy<=1.23.1,>=1.16.6 in /usr/local/lib/python3.7/dist-packages (from openvino) (1.21.6)\n",
            "Installing collected packages: openvino\n",
            "Successfully installed openvino-2022.2.0\n",
            "Mounted at /content/drive\n"
          ]
        }
      ]
    },
    {
      "cell_type": "code",
      "source": [
        "def seed_everything(seed=27):\n",
        "    os.environ['PYTHONHASHSEED'] = str(seed)\n",
        "    random.seed(seed)\n",
        "    np.random.seed(seed)\n",
        "    torch.manual_seed(seed)\n",
        "    torch.cuda.manual_seed(seed)\n",
        "    torch.cuda.manual_seed_all(seed)\n",
        "    torch.backends.cudnn.deterministic = True\n",
        "    torch.backends.cudnn.benchmark = False"
      ],
      "metadata": {
        "id": "WXO2HuboGcNC"
      },
      "execution_count": null,
      "outputs": []
    },
    {
      "cell_type": "code",
      "source": [
        "zipFile = zipfile.ZipFile('/content/drive/MyDrive/Datasets/Caltech256.zip', 'r')\n",
        "zipFile.extractall('Caltech256')\n",
        "zipFile.close()\n",
        "zipFile = zipfile.ZipFile(\"/content/drive/MyDrive/Datasets/Caltech256_lists.zip\", 'r')\n",
        "zipFile.extractall('Caltech256_lists')\n",
        "zipFile.close()"
      ],
      "metadata": {
        "id": "-IyjHr6_mWCE"
      },
      "execution_count": null,
      "outputs": []
    },
    {
      "cell_type": "markdown",
      "source": [
        "#New dataset setup"
      ],
      "metadata": {
        "id": "0gHF-YG3Fn7g"
      }
    },
    {
      "cell_type": "code",
      "source": [
        "seed_everything()\n",
        "IMAGE_HEIGHT = 256\n",
        "IMAGE_WIDTH = 256\n",
        "mean = [0.5520, 0.5336, 0.5051]\n",
        "std = [0.2379, 0.2371, 0.2397]\n",
        "train_transforms1 = A.Compose(\n",
        "        [\n",
        "            A.Resize(height=IMAGE_HEIGHT, width=IMAGE_WIDTH),\n",
        "            \n",
        "            A.HorizontalFlip(p=0.9),\n",
        "            A.VerticalFlip(p=0.9),\n",
        "            A.InvertImg(p=0.7),\n",
        "            A.Normalize(\n",
        "                mean=mean,\n",
        "                std=std,\n",
        "                max_pixel_value=255.0,\n",
        "            ),\n",
        "            ToTensorV2(),\n",
        "        ],\n",
        "    )\n",
        "\n",
        "train_transforms2 = A.Compose(\n",
        "        [\n",
        "            A.Resize(height=IMAGE_HEIGHT, width=IMAGE_WIDTH),\n",
        "            # A.RGBShift(r_shift_limit=25, g_shift_limit=25, b_shift_limit=25),\n",
        "            # A.Blur(blur_limit=5, p=0.7),\n",
        "            # A.RandomBrightnessContrast(p=0.5),\n",
        "            # A.ChannelShuffle(p=0.7),\n",
        "            # A.Solarize(threshold=128, p=0.5),\n",
        "            \n",
        "            # A.InvertImg(p=0.7),\n",
        "            A.Normalize(\n",
        "                mean=mean,\n",
        "                std=std,\n",
        "                max_pixel_value=255.0,\n",
        "            ),\n",
        "            ToTensorV2(),\n",
        "        ],\n",
        "    )\n",
        "\n",
        "train_transforms3 = A.Compose(\n",
        "        [\n",
        "            A.Resize(height=IMAGE_HEIGHT, width=IMAGE_WIDTH),\n",
        "            A.RGBShift(r_shift_limit=25, g_shift_limit=25, b_shift_limit=25),\n",
        "            A.Blur(blur_limit=5, p=0.7),\n",
        "            A.RandomBrightnessContrast(p=0.5),\n",
        "            # A.Solarize(threshold=128, p=0.5),\n",
        "            # A.GaussNoise(),\n",
        "            # A.InvertImg(p=0.7),\n",
        "            A.Solarize(threshold=128, p=0.5),\n",
        "            A.Normalize(\n",
        "                mean=mean,\n",
        "                std=std,\n",
        "                max_pixel_value=255.0,\n",
        "            ),\n",
        "            ToTensorV2(),\n",
        "        ],\n",
        "    )\n",
        "\n",
        "train_transforms4 = A.Compose(\n",
        "        [\n",
        "            A.Resize(height=IMAGE_HEIGHT, width=IMAGE_WIDTH),\n",
        "            A.GaussNoise(),\n",
        "            A.Rotate(limit=35, p=1.0),\n",
        "            A.ChannelShuffle(p=0.7),\n",
        "            A.Normalize(\n",
        "                mean=mean,\n",
        "                std=std,\n",
        "                max_pixel_value=255.0,\n",
        "            ),\n",
        "            ToTensorV2(),\n",
        "        ],\n",
        "    )\n",
        "val_transforms = A.Compose(\n",
        "        [\n",
        "            A.Resize(height=IMAGE_HEIGHT, width=IMAGE_WIDTH),\n",
        "            A.Normalize(\n",
        "                mean=mean,\n",
        "                std=std,\n",
        "                max_pixel_value=255.0,\n",
        "            ),\n",
        "            ToTensorV2(),\n",
        "        ],\n",
        "    )"
      ],
      "metadata": {
        "id": "-jnPz4bh_QNi"
      },
      "execution_count": null,
      "outputs": []
    },
    {
      "cell_type": "code",
      "source": [
        "class Caltech256Dataset(Dataset):\n",
        "  def __init__(self, list_path, transform=None, image_dir=\"/content/Caltech256/\"):\n",
        "    self.file_path = list_path\n",
        "    self.image_dir = image_dir\n",
        "    self.transforms = transform\n",
        "    self.file = open(self.file_path, encoding='utf-8')\n",
        "    self.text = self.file.read()\n",
        "    self.image_descriptions = self.text.split(\"\\n\")\n",
        "    \n",
        "\n",
        "  def __getitem__(self, index):\n",
        "    image_discription = self.image_descriptions[index].split()\n",
        "    img_path = \"/content/Caltech256/\" +  image_discription[0]\n",
        "    label = int(image_discription[1])\n",
        "    image = np.array(Image.open(img_path).convert(\"RGB\"))\n",
        "    if self.transforms is not None:\n",
        "      augmentations = self.transforms(image=image)\n",
        "      image = augmentations[\"image\"]\n",
        "    return image, label\n",
        "\n",
        "  \n",
        "  def __len__(self):\n",
        "    return len(self.image_descriptions)-1\n",
        "\n",
        "def to_device(data, device):\n",
        "  \"\"\"Move tensor(s) to chosen device\"\"\"\n",
        "  if isinstance(data, (list,tuple)):\n",
        "      return [to_device(x, device) for x in data]\n",
        "  return data.to(device, non_blocking=True)\n",
        "\n",
        "class DeviceDataLoader():\n",
        "  \"\"\"Wrap a dataloader to move data to a device\"\"\"\n",
        "  def __init__(self, dl, device):\n",
        "      self.dl = dl\n",
        "      self.device = device\n",
        "      \n",
        "  def __iter__(self):\n",
        "      \"\"\"Yield a batch of data after moving it to device\"\"\"\n",
        "      for b in self.dl: \n",
        "          yield to_device(b, self.device)\n",
        "\n",
        "  def __len__(self):\n",
        "      \"\"\"Number of batches\"\"\"\n",
        "      return len(self.dl)"
      ],
      "metadata": {
        "id": "iPmphfKv3zNe"
      },
      "execution_count": null,
      "outputs": []
    },
    {
      "cell_type": "code",
      "source": [
        "DEVICE = \"cuda\" if torch.cuda.is_available() else \"cpu\"\n",
        "BATCH_SIZE = 32\n",
        "NUM_WORKERS = 2\n",
        "IMAGE_HEIGHT = 256\n",
        "IMAGE_WIDTH = 256 \n",
        "PIN_MEMORY = True\n",
        "TRAIN_LIST_PATH = \"/content/Caltech256_lists/Caltech256_lists/train_lst.txt\"\n",
        "VAL_LIST_PATH = \"/content/Caltech256_lists/Caltech256_lists/val_lst.txt\"\n",
        "TEST_LIST_PATH = \"/content/Caltech256_lists/Caltech256_lists/test_lst.txt\""
      ],
      "metadata": {
        "id": "nvv3t6KhFuvh"
      },
      "execution_count": null,
      "outputs": []
    },
    {
      "cell_type": "code",
      "source": [
        "seed_everything()\n",
        "train_dataset1 = Caltech256Dataset(\n",
        "        list_path=TRAIN_LIST_PATH,\n",
        "        transform=val_transforms,\n",
        "    )\n",
        "train_dataset2 = Caltech256Dataset(\n",
        "        list_path=TRAIN_LIST_PATH,\n",
        "        transform=train_transforms2,\n",
        "    )\n",
        "train_dataset3 = Caltech256Dataset(\n",
        "        list_path=TRAIN_LIST_PATH,\n",
        "        transform=train_transforms3,\n",
        "    )\n",
        "\n",
        "train_dataset4 = Caltech256Dataset(\n",
        "        list_path=TRAIN_LIST_PATH,\n",
        "        transform=train_transforms4,\n",
        "    )\n",
        "\n",
        "train_dataset = torch.utils.data.ConcatDataset([train_dataset1, train_dataset2, train_dataset3, train_dataset4])\n",
        "\n",
        "val_dataset = Caltech256Dataset(\n",
        "        list_path=VAL_LIST_PATH,\n",
        "        transform=val_transforms,\n",
        "    )\n",
        "test_dataset = Caltech256Dataset(\n",
        "        list_path=TEST_LIST_PATH,\n",
        "        transform=val_transforms,\n",
        "    )\n",
        "\n",
        "train_loader = DataLoader(\n",
        "        train_dataset,\n",
        "        batch_size=BATCH_SIZE,\n",
        "        num_workers=NUM_WORKERS,\n",
        "        pin_memory=PIN_MEMORY,\n",
        "        shuffle=True,\n",
        "    )\n",
        "\n",
        "val_loader = DataLoader(\n",
        "        val_dataset,\n",
        "        batch_size=BATCH_SIZE,\n",
        "        num_workers=NUM_WORKERS,\n",
        "        pin_memory=PIN_MEMORY,\n",
        "        shuffle=True,\n",
        "    )\n",
        "\n",
        "test_loader = DataLoader(\n",
        "        test_dataset,\n",
        "        batch_size=BATCH_SIZE,\n",
        "        num_workers=NUM_WORKERS,\n",
        "        pin_memory=PIN_MEMORY,\n",
        "        shuffle=True,\n",
        "    )\n",
        "\n",
        "# train_loader = DeviceDataLoader(train_loader, DEVICE)\n",
        "# val_loader = DeviceDataLoader(val_loader, DEVICE)\n",
        "# test_loader = DeviceDataLoader(test_loader, DEVICE)"
      ],
      "metadata": {
        "id": "W5sQFzhdG26x"
      },
      "execution_count": null,
      "outputs": []
    },
    {
      "cell_type": "code",
      "source": [
        "image, _ = train_dataset[55]\n",
        "plt.imshow(image.permute(1, 2, 0).clamp(0, 1))"
      ],
      "metadata": {
        "id": "dC4jPPZlfc1-",
        "colab": {
          "base_uri": "https://localhost:8080/",
          "height": 287
        },
        "outputId": "228533ac-d770-4ba7-a986-f38ad9ae362f"
      },
      "execution_count": null,
      "outputs": [
        {
          "output_type": "execute_result",
          "data": {
            "text/plain": [
              "<matplotlib.image.AxesImage at 0x7f3a2317d8d0>"
            ]
          },
          "metadata": {},
          "execution_count": 8
        },
        {
          "output_type": "display_data",
          "data": {
            "text/plain": [
              "<Figure size 432x288 with 1 Axes>"
            ],
            "image/png": "[encoded data removed]"
          },
          "metadata": {
            "needs_background": "light"
          }
        }
      ]
    },
    {
      "cell_type": "markdown",
      "source": [
        "#Assets"
      ],
      "metadata": {
        "id": "7cTFKpoQFyD9"
      }
    },
    {
      "cell_type": "code",
      "source": [
        "def get_mean_and_std(data_loader):\n",
        "  mean = 0\n",
        "  std = 0\n",
        "  images_count = 0\n",
        "  for images, _ in data_loader:\n",
        "    \n",
        "    images_in_the_batch = images.size(0)\n",
        "    images = images.view(images_in_the_batch, images.size(1), -1)\n",
        "    mean += images.mean(2).sum(0)\n",
        "    std += images.std(2).sum(0)\n",
        "    images_count += images_in_the_batch\n",
        "  \n",
        "  mean /= images_count\n",
        "  std /= images_count\n",
        "  \n",
        "  return mean, std\n",
        "\n",
        "def check_accuracy(loader, model, device):\n",
        "    num_correct = 0\n",
        "    num_samples = 0\n",
        "    model.eval()\n",
        "\n",
        "    with torch.no_grad():\n",
        "        for x, y in loader:\n",
        "            x = x.to(device=device)\n",
        "            y = y.to(device=device)\n",
        "\n",
        "            scores = model(x)\n",
        "            _, predictions = scores.max(1)\n",
        "            num_correct += (predictions == y).sum()\n",
        "            num_samples += predictions.size(0)\n",
        "\n",
        "\n",
        "    model.train()\n",
        "    print(\"accuracy = \", num_correct/num_samples)\n",
        "    return num_correct/num_samples\n"
      ],
      "metadata": {
        "id": "7WS-H0-esukK"
      },
      "execution_count": null,
      "outputs": []
    },
    {
      "cell_type": "code",
      "source": [
        "# DEVICE = \"cuda\" if torch.cuda.is_available() else \"cpu\"\n",
        "\n",
        "def train_with_distillation(train_loader, test_loader, model, loss_fn, optimizer, teacher_model, max_lr, epochs, alpha = 0.7, temperature = 3):\n",
        "    # alpha = 0.4\n",
        "    # temperature = 3\n",
        "    seed_everything()\n",
        "    # sched = torch.optim.lr_scheduler.OneCycleLR(optimizer, max_lr, epochs=epochs, \n",
        "    #                                            steps_per_epoch=len(train_loader))\n",
        "    \n",
        "    writer = SummaryWriter(\"/content/boards/board\")\n",
        "    step = 0\n",
        "    images, _ = next(iter(train_loader))\n",
        "    grid = make_grid(images)\n",
        "    writer.add_image('images', grid)\n",
        "\n",
        "    # sched = torch.optim.lr_scheduler.StepLR(optimizer, step_size = 1, gamma=0.5)\n",
        "    teacher_model.eval()\n",
        "    for epoch in range(epochs):\n",
        "      model.train()\n",
        "      total_loss = 0\n",
        "      len_losses = 0\n",
        "      loop = tqdm(train_loader, leave=True)\n",
        "      for batch_idx, (data, targets) in enumerate(loop):\n",
        "          data = data.to(DEVICE)\n",
        "          targets = targets.to(DEVICE)\n",
        "\n",
        "          scores = model(data)\n",
        "          teacher_model_scores = teacher_model(data)\n",
        "          teacher_prob = F.softmax(teacher_model_scores/temperature, dim=1)\n",
        "          student_prob = F.softmax(scores/temperature, dim=1)\n",
        "          loss = alpha * loss_fn(scores, targets) + (1 - alpha) * F.kl_div(student_prob, teacher_prob)\n",
        "\n",
        "          loss.backward()\n",
        "          optimizer.step()\n",
        "          optimizer.zero_grad()\n",
        "\n",
        "          len_losses += 1\n",
        "          total_loss += loss.item()\n",
        "          loop.set_postfix(loss=loss.item())\n",
        "          # sched.step()\n",
        "      # sched.step()\n",
        "      mean_loss = total_loss / len_losses\n",
        "      writer.add_scalar(\"Total training loss\", total_loss, global_step=step)\n",
        "      writer.add_scalar(\"Mean loss loss\", mean_loss, global_step=step)\n",
        "\n",
        "      accuracy = check_accuracy(test_loader, model, DEVICE)\n",
        "      if accuracy>0.6:\n",
        "        torch.save(model.state_dict(), f\"/content/drive/MyDrive/Models/Caltech256_distill_resnet18_val_acc={accuracy}\")\n",
        "      writer.add_scalar(\"Training Accuracy\", accuracy, global_step=step)\n",
        "      step += 1\n",
        "    writer.close()\n",
        "\n",
        "def swa_train(train_loader, test_loader, model, loss_fn, optimizer, max_lr, epochs, swa_scheduler, swa_model, swa_start):\n",
        "    seed_everything()\n",
        "    sched = torch.optim.lr_scheduler.StepLR(optimizer, step_size = 7, gamma=0.5)\n",
        "    # sched = torch.optim.lr_scheduler.OneCycleLR(optimizer, max_lr, epochs=epochs, \n",
        "    #                                            steps_per_epoch=len(train_loader), cycle_momentum=False)\n",
        "    step = 0\n",
        "    writer = SummaryWriter()\n",
        "    images, _ = next(iter(train_loader))\n",
        "    grid = make_grid(images)\n",
        "    writer.add_image('images', grid)\n",
        "    for epoch in range(epochs):\n",
        "      model.train()\n",
        "      total_loss = 0\n",
        "      loop = tqdm(train_loader, leave=True)\n",
        "      len_losses = 0\n",
        "      for batch_idx, (data, targets) in enumerate(loop):\n",
        "          data = data.to(DEVICE)\n",
        "          targets = targets.to(DEVICE)\n",
        "\n",
        "          scores = model(data)\n",
        "          loss = loss_fn(scores, targets)\n",
        "          total_loss += loss.item()\n",
        "          len_losses += 1\n",
        "\n",
        "          loss.backward()\n",
        "          optimizer.step()\n",
        "          optimizer.zero_grad()\n",
        "\n",
        "          loop.set_postfix(loss=loss.item())\n",
        "          if epoch > swa_start:\n",
        "            swa_model.update_parameters(model)\n",
        "            swa_scheduler.step()\n",
        "          # else:\n",
        "          #   sched.step()\n",
        "      sched.step()\n",
        "      mean_loss = total_loss / len_losses\n",
        "\n",
        "      writer.add_scalar(\"Total training loss\", total_loss, global_step=step)\n",
        "      writer.add_scalar(\"Mean loss loss\", total_loss, global_step=step)\n",
        "\n",
        " \n",
        "      accuracy = check_accuracy(test_loader, model, DEVICE) \n",
        "      if accuracy > 0.62:\n",
        "        torch.save(model.state_dict(), f\"/content/drive/MyDrive/Models/Caltech256_resnet18_val_acc={accuracy}\")\n",
        "      writer.add_scalar(\"Training Accuracy\", accuracy, global_step=step)\n",
        "      step +=1\n",
        "    writer.close()\n",
        "    torch.optim.swa_utils.update_bn(train_loader, swa_model)\n",
        "    check_accuracy(test_loader, swa_model, DEVICE)\n",
        "\n",
        "def simple_train(train_loader, test_loader, model, loss_fn, optimizer, max_lr, epochs):\n",
        "    seed_everything()\n",
        "    # sched = torch.optim.lr_scheduler.StepLR(optimizer, step_size = 1, gamma=0.1)\n",
        "    sched = torch.optim.lr_scheduler.OneCycleLR(optimizer, max_lr, epochs=epochs, \n",
        "                                               steps_per_epoch=len(train_loader), cycle_momentum=False)\n",
        "    step = 0\n",
        "    writer = SummaryWriter()\n",
        "    images, _ = next(iter(train_loader))\n",
        "    grid = make_grid(images)\n",
        "    writer.add_image('images', grid)\n",
        "    for epoch in range(epochs):\n",
        "      model.train()\n",
        "      total_loss = 0\n",
        "      loop = tqdm(train_loader, leave=True)\n",
        "      len_losses = 0\n",
        "      for batch_idx, (data, targets) in enumerate(loop):\n",
        "          data = data.to(DEVICE)\n",
        "          targets = targets.to(DEVICE)\n",
        "\n",
        "          scores = model(data)\n",
        "          loss = loss_fn(scores, targets)\n",
        "          total_loss += loss.item()\n",
        "          len_losses += 1\n",
        "\n",
        "          loss.backward()\n",
        "          optimizer.step()\n",
        "          optimizer.zero_grad()\n",
        "\n",
        "          loop.set_postfix(loss=loss.item())\n",
        "          sched.step()\n",
        "      # sched.step()\n",
        "      mean_loss = total_loss / len_losses\n",
        "\n",
        "      writer.add_scalar(\"Total training loss\", total_loss, global_step=step)\n",
        "      writer.add_scalar(\"Mean loss loss\", total_loss, global_step=step)\n",
        "\n",
        "      accuracy = check_accuracy(test_loader, model, DEVICE)\n",
        "      if accuracy > 0.61:\n",
        "        torch.save(model.state_dict(), f\"/content/drive/MyDrive/Models/Caltech256_resnet18_val_acc={accuracy}\")\n",
        "      writer.add_scalar(\"Training Accuracy\", accuracy, global_step=step)\n",
        "      step +=1\n",
        "    writer.close()\n",
        "\n",
        "\n",
        "def train_one_epoch(loader, model, loss_fn, optimizer):\n",
        "    loop = tqdm(loader)\n",
        "\n",
        "    for batch_idx, (data, targets) in enumerate(loop):\n",
        "        data = data.to(DEVICE)\n",
        "        targets = targets.to(DEVICE)\n",
        "\n",
        "        scores = model(data)\n",
        "        loss = loss_fn(scores, targets)\n",
        "\n",
        "        loss.backward()\n",
        "        optimizer.step()\n",
        "        optimizer.zero_grad()\n",
        "        loop.set_postfix(loss=loss.item())"
      ],
      "metadata": {
        "id": "sNAj4BX7s2WA"
      },
      "execution_count": null,
      "outputs": []
    },
    {
      "cell_type": "code",
      "source": [
        "# weights = [0]*256\n",
        "# print(len(train_dataset1))\n",
        "# length = len(train_dataset1)\n",
        "# for i in range(len(train_dataset1)):\n",
        "#   _, label = train_dataset1[i]\n",
        "#   weights[label] += 1\n",
        "\n",
        "# print(weights)\n",
        "# weights = [59, 91, 77, 90, 54, 64, 140, 62, 58, 168, 130, 60, 52, 74, 55, 64, 61, 76, 51, 86, 59, 66, 68, 70, 64, 60, 66, 63, 64, 54, 61, 62, 60, 53, 64, 72, 66, 51, 76, 53, 53, 76, 73, 51, 81, 58, 63, 64, 59, 70, 51, 50, 72, 60, 62, 64, 57, 51, 53, 62, 51, 74, 79, 61, 51, 51, 66, 61, 52, 61, 72, 60, 69, 51, 52, 56, 54, 61, 70, 57, 49, 57, 52, 68, 48, 57, 60, 66, 128, 57, 121, 68, 64, 52, 171, 55, 60, 48, 57, 84, 54, 67, 59, 162, 53, 55, 51, 94, 51, 52, 52, 70, 72, 54, 65, 73, 66, 53, 78, 50, 63, 67, 55, 61, 146, 78, 63, 114, 55, 56, 114, 82, 73, 57, 57, 94, 116, 52, 55, 71, 65, 78, 50, 480, 50, 122, 106, 63, 67, 67, 72, 57, 63, 56, 58, 63, 91, 127, 51, 63, 55, 54, 61, 54, 56, 52, 84, 56, 62, 52, 61, 64, 52, 51, 66, 58, 60, 48, 62, 60, 72, 60, 52, 63, 49, 57, 54, 73, 68, 67, 68, 106, 68, 53, 64, 60, 66, 63, 60, 49, 59, 55, 48, 53, 60, 69, 67, 62, 67, 57, 82, 61, 85, 52, 60, 63, 49, 52, 58, 63, 55, 48, 66, 54, 61, 89, 57, 57, 58, 68, 216, 60, 74, 70, 59, 54, 59, 52, 121, 57, 57, 54, 55, 55, 61, 56, 52, 60, 58, 480, 70, 261, 57, 63, 66, 60]\n",
        "# length = len(train_dataset1)\n",
        "# for i in range(len(weights)):\n",
        "#   weights[i] = length/(weights[i]*256)\n",
        "\n",
        "# print(weights)\n",
        "# print(\"hello\")\n",
        "\n"
      ],
      "metadata": {
        "id": "CvBbwmlMVZWC"
      },
      "execution_count": null,
      "outputs": []
    },
    {
      "cell_type": "markdown",
      "source": [
        "#Model setup"
      ],
      "metadata": {
        "id": "igrFJATUF2D4"
      }
    },
    {
      "cell_type": "code",
      "source": [
        "!pip install torch-lr-finder\n",
        "from torch_lr_finder import LRFinder"
      ],
      "metadata": {
        "colab": {
          "base_uri": "https://localhost:8080/"
        },
        "id": "H6MypopYcrN9",
        "outputId": "cff8e6f9-fbc5-4dcf-fdc0-c0c998b3577c"
      },
      "execution_count": null,
      "outputs": [
        {
          "output_type": "stream",
          "name": "stdout",
          "text": [
            "Looking in indexes: https://pypi.org/simple, https://us-python.pkg.dev/colab-wheels/public/simple/\n",
            "Collecting torch-lr-finder\n",
            "  Downloading torch_lr_finder-0.2.1-py3-none-any.whl (11 kB)\n",
            "Requirement already satisfied: matplotlib in /usr/local/lib/python3.7/dist-packages (from torch-lr-finder) (3.2.2)\n",
            "Requirement already satisfied: numpy in /usr/local/lib/python3.7/dist-packages (from torch-lr-finder) (1.21.6)\n",
            "Requirement already satisfied: tqdm in /usr/local/lib/python3.7/dist-packages (from torch-lr-finder) (4.64.1)\n",
            "Requirement already satisfied: packaging in /usr/local/lib/python3.7/dist-packages (from torch-lr-finder) (21.3)\n",
            "Requirement already satisfied: torch>=0.4.1 in /usr/local/lib/python3.7/dist-packages (from torch-lr-finder) (1.12.1+cu113)\n",
            "Requirement already satisfied: typing-extensions in /usr/local/lib/python3.7/dist-packages (from torch>=0.4.1->torch-lr-finder) (4.1.1)\n",
            "Requirement already satisfied: pyparsing!=2.0.4,!=2.1.2,!=2.1.6,>=2.0.1 in /usr/local/lib/python3.7/dist-packages (from matplotlib->torch-lr-finder) (3.0.9)\n",
            "Requirement already satisfied: cycler>=0.10 in /usr/local/lib/python3.7/dist-packages (from matplotlib->torch-lr-finder) (0.11.0)\n",
            "Requirement already satisfied: kiwisolver>=1.0.1 in /usr/local/lib/python3.7/dist-packages (from matplotlib->torch-lr-finder) (1.4.4)\n",
            "Requirement already satisfied: python-dateutil>=2.1 in /usr/local/lib/python3.7/dist-packages (from matplotlib->torch-lr-finder) (2.8.2)\n",
            "Requirement already satisfied: six>=1.5 in /usr/local/lib/python3.7/dist-packages (from python-dateutil>=2.1->matplotlib->torch-lr-finder) (1.15.0)\n",
            "Installing collected packages: torch-lr-finder\n",
            "Successfully installed torch-lr-finder-0.2.1\n"
          ]
        }
      ]
    },
    {
      "cell_type": "code",
      "source": [
        "model = timm.create_model('resnet18', pretrained=False, num_classes=256)\n",
        "# model.load_state_dict(torch.load(\"/content/drive/MyDrive/Models/Caltech256_distill_resnet18_val_acc=0.5963834524154663\"))\n",
        "# swa_model = AveragedModel(model)\n",
        "# teacher_model = torch.hub.load('pytorch/vision:v0.10.0', 'densenet121', pretrained=False)\n",
        "# teacher_model.classifier = nn.Linear(1024, 256)\n",
        "# teacher_model.load_state_dict(torch.load(\"/content/drive/MyDrive/Models/Caltech256_teacher_densenet121_val_acc=0.8039917945861816\"))\n",
        "\n",
        "# for param in teacher_model.parameters():\n",
        "#     param.requires_grad = False\n",
        "\n",
        "DEVICE = \"cuda\" if torch.cuda.is_available() else \"cpu\"\n",
        "# teacher_model = teacher_model.to(DEVICE)\n",
        "# weights = [1.1755208333333333, 1.1954449152542372, 0.7750686813186813, 0.9159902597402597, 0.7836805555555556, 1.3061342592592593, 1.10205078125, 0.5037946428571428, 1.137600806451613, 1.2160560344827587, 0.41982886904761907, 0.5425480769230769, 1.1755208333333333, 1.3563701923076923, 0.953125, 1.2823863636363637, 1.10205078125, 1.15625, 0.9280427631578947, 1.3829656862745099, 0.8201308139534884, 1.1954449152542372, 1.068655303030303, 1.0372242647058822, 1.0075892857142856, 1.10205078125, 1.1755208333333333, 1.068655303030303, 1.1195436507936507, 1.10205078125, 1.3061342592592593, 1.15625, 1.137600806451613, 1.1755208333333333, 1.3307783018867925, 1.10205078125, 0.9796006944444444, 1.068655303030303, 1.3829656862745099, 0.9280427631578947, 1.3307783018867925, 1.3307783018867925, 0.9280427631578947, 0.966181506849315, 1.3829656862745099, 0.8707561728395061, 1.2160560344827587, 1.1195436507936507, 1.10205078125, 1.1954449152542372, 1.0075892857142856, 1.3829656862745099, 1.410625, 0.9796006944444444, 1.1755208333333333, 1.137600806451613, 1.10205078125, 1.237390350877193, 1.3829656862745099, 1.3307783018867925, 1.137600806451613, 1.3829656862745099, 0.953125, 0.8928006329113924, 1.15625, 1.3829656862745099, 1.3829656862745099, 1.068655303030303, 1.15625, 1.3563701923076923, 1.15625, 0.9796006944444444, 1.1755208333333333, 1.0221920289855073, 1.3829656862745099, 1.3563701923076923, 1.2594866071428572, 1.3061342592592593, 1.15625, 1.0075892857142856, 1.237390350877193, 1.4394132653061225, 1.237390350877193, 1.3563701923076923, 1.0372242647058822, 1.4694010416666667, 1.237390350877193, 1.1755208333333333, 1.068655303030303, 0.551025390625, 1.237390350877193, 0.5829028925619835, 1.0372242647058822, 1.10205078125, 1.3563701923076923, 0.41246345029239767, 1.2823863636363637, 1.1755208333333333, 1.4694010416666667, 1.237390350877193, 0.8396577380952381, 1.3061342592592593, 1.052705223880597, 1.1954449152542372, 0.43537808641975306, 1.3307783018867925, 1.2823863636363637, 1.3829656862745099, 0.7503324468085106, 1.3829656862745099, 1.3563701923076923, 1.3563701923076923, 1.0075892857142856, 0.9796006944444444, 1.3061342592592593, 1.0850961538461539, 0.966181506849315, 1.068655303030303, 1.3307783018867925, 0.9042467948717948, 1.410625, 1.1195436507936507, 1.052705223880597, 1.2823863636363637, 1.15625, 0.4830907534246575, 0.9042467948717948, 1.1195436507936507, 0.6186951754385965, 1.2823863636363637, 1.2594866071428572, 0.6186951754385965, 0.8601371951219512, 0.966181506849315, 1.237390350877193, 1.237390350877193, 0.7503324468085106, 0.6080280172413793, 1.3563701923076923, 1.2823863636363637, 0.9933978873239436, 1.0850961538461539, 0.9042467948717948, 1.410625, 0.14694010416666667, 1.410625, 0.578125, 0.6653891509433962, 1.1195436507936507, 1.052705223880597, 1.052705223880597, 0.9796006944444444, 1.237390350877193, 1.1195436507936507, 1.2594866071428572, 1.2160560344827587, 1.1195436507936507, 0.7750686813186813, 0.5553641732283464, 1.3829656862745099, 1.1195436507936507, 1.2823863636363637, 1.3061342592592593, 1.15625, 1.3061342592592593, 1.2594866071428572, 1.3563701923076923, 0.8396577380952381, 1.2594866071428572, 1.137600806451613, 1.3563701923076923, 1.15625, 1.10205078125, 1.3563701923076923, 1.3829656862745099, 1.068655303030303, 1.2160560344827587, 1.1755208333333333, 1.4694010416666667, 1.137600806451613, 1.1755208333333333, 0.9796006944444444, 1.1755208333333333, 1.3563701923076923, 1.1195436507936507, 1.4394132653061225, 1.237390350877193, 1.3061342592592593, 0.966181506849315, 1.0372242647058822, 1.052705223880597, 1.0372242647058822, 0.6653891509433962, 1.0372242647058822, 1.3307783018867925, 1.10205078125, 1.1755208333333333, 1.068655303030303, 1.1195436507936507, 1.1755208333333333, 1.4394132653061225, 1.1954449152542372, 1.2823863636363637, 1.4694010416666667, 1.3307783018867925, 1.1755208333333333, 1.0221920289855073, 1.052705223880597, 1.137600806451613, 1.052705223880597, 1.237390350877193, 0.8601371951219512, 1.15625, 0.8297794117647059, 1.3563701923076923, 1.1755208333333333, 1.1195436507936507, 1.4394132653061225, 1.3563701923076923, 1.2160560344827587, 1.1195436507936507, 1.2823863636363637, 1.4694010416666667, 1.068655303030303, 1.3061342592592593, 1.15625, 0.7924859550561798, 1.237390350877193, 1.237390350877193, 1.2160560344827587, 1.0372242647058822, 0.3265335648148148, 1.1755208333333333, 0.953125, 1.0075892857142856, 1.1954449152542372, 1.3061342592592593, 1.1954449152542372, 1.3563701923076923, 0.5829028925619835, 1.237390350877193, 1.237390350877193, 1.3061342592592593, 1.2823863636363637, 1.2823863636363637, 1.15625, 1.2594866071428572, 1.3563701923076923, 1.1755208333333333, 1.2160560344827587, 0.14694010416666667, 1.0075892857142856, 0.27023467432950193, 1.237390350877193, 1.1195436507936507, 1.068655303030303]\n",
        "# weights = torch.tensor(weights, device=DEVICE)\n",
        "model = model.to(DEVICE)\n",
        "# swa_model = swa_model.to(DEVICE)\n",
        "\n",
        "WEIGHT_DECAY = 1e-4\n",
        "LEARNING_RATE = 1e-03\n",
        "NUM_EPOCHS = 30\n",
        "# SWA_START = 20\n",
        "\n",
        "loss_fn = nn.CrossEntropyLoss()\n",
        "optimizer = optim.Adam(\n",
        "        model.parameters(), lr=LEARNING_RATE, weight_decay=WEIGHT_DECAY\n",
        "    )\n",
        "# swa_scheduler = SWALR(optimizer, swa_lr=5.08e-05)\n",
        "# lr_finder = LRFinder(model, optimizer, loss_fn, device=\"cuda\")\n",
        "# lr_finder.range_test(train_loader, end_lr=1, num_iter=200)\n",
        "# lr_finder.plot()"
      ],
      "metadata": {
        "id": "SJBDsrgZtb23"
      },
      "execution_count": null,
      "outputs": []
    },
    {
      "cell_type": "markdown",
      "source": [
        "#Train"
      ],
      "metadata": {
        "id": "Mxj9XMWRF4pI"
      }
    },
    {
      "cell_type": "code",
      "source": [
        "gc.collect()\n",
        "torch.cuda.empty_cache()"
      ],
      "metadata": {
        "id": "qXA4tLclVnRO"
      },
      "execution_count": null,
      "outputs": []
    },
    {
      "cell_type": "code",
      "source": [
        "seed_everything()\n",
        "simple_train(train_loader, val_loader, model, loss_fn, optimizer, LEARNING_RATE, NUM_EPOCHS)\n",
        "# swa_train(train_loader, val_loader, model, loss_fn, optimizer, LEARNING_RATE, NUM_EPOCHS, swa_scheduler, swa_model, SWA_START)\n",
        "# train_with_distillation(train_loader, val_loader, model, loss_fn, optimizer, teacher_model,\n",
        "#                         LEARNING_RATE, NUM_EPOCHS, alpha = 0.8, temperature = 2)"
      ],
      "metadata": {
        "id": "YMurIrcttnWU"
      },
      "execution_count": null,
      "outputs": []
    },
    {
      "cell_type": "code",
      "source": [
        "model.eval()\n",
        "check_accuracy(test_loader, model, DEVICE)"
      ],
      "metadata": {
        "colab": {
          "base_uri": "https://localhost:8080/"
        },
        "id": "MfCVj9_mn3Mm",
        "outputId": "63a7c759-2ec2-4e7a-caf4-030fb3a95146"
      },
      "execution_count": null,
      "outputs": [
        {
          "output_type": "stream",
          "name": "stdout",
          "text": [
            "accuracy =  tensor(0.6087, device='cuda:0')\n"
          ]
        },
        {
          "output_type": "execute_result",
          "data": {
            "text/plain": [
              "tensor(0.6087, device='cuda:0')"
            ]
          },
          "metadata": {},
          "execution_count": 19
        }
      ]
    },
    {
      "cell_type": "code",
      "source": [
        "torch.save(swa_model.state_dict(), \"/content/drive/MyDrive/Models/Caltech256_swa_resnet18_val_acc=0,6216_test_acc=0,6087\")"
      ],
      "metadata": {
        "id": "gHtgZ7czpptK"
      },
      "execution_count": null,
      "outputs": []
    },
    {
      "cell_type": "code",
      "source": [
        "%load_ext tensorboard"
      ],
      "metadata": {
        "id": "aRwaepl_eWtp"
      },
      "execution_count": null,
      "outputs": []
    },
    {
      "cell_type": "code",
      "source": [
        "%tensorboard --logdir /content/drive/MyDrive/Boards/resnet18_caltech256"
      ],
      "metadata": {
        "id": "VMUWQ-8xejlI"
      },
      "execution_count": null,
      "outputs": []
    },
    {
      "cell_type": "markdown",
      "source": [
        "#Onnx and Openvino part"
      ],
      "metadata": {
        "id": "zJxB4Sisqjlh"
      }
    },
    {
      "cell_type": "code",
      "source": [
        "import openvino\n",
        "from openvino.inference_engine import IENetwork\n",
        "from openvino.inference_engine import IECore\n",
        "from openvino.runtime import Core\n"
      ],
      "metadata": {
        "id": "yTGthR6Wni7A"
      },
      "execution_count": null,
      "outputs": []
    },
    {
      "cell_type": "code",
      "source": [
        "# model = torch.hub.load('NVIDIA/DeepLearningExamples:torchhub', 'nvidia_efficientnet_b0', pretrained=False)\n",
        "# model.classifier = nn.Sequential(nn.AdaptiveAvgPool2d((1,1)),\n",
        "#                                         nn.Flatten(),\n",
        "#                                         nn.Dropout(p = 0.2),\n",
        "#                                         nn.Linear(1280, 257)\n",
        "#                                         )\n",
        "model = timm.create_model('resnet18', pretrained=False, num_classes=256)\n",
        "model.load_state_dict(torch.load(\"/content/drive/MyDrive/Models/Caltech256_resnet18_val_acc=0.6241896748542786\", map_location=torch.device('cpu')))\n",
        "\n",
        "\n",
        "batch = torch.randn(1, 3, 256, 256)\n",
        "model.eval()\n",
        "torch.onnx.export(model, batch, \"Caltech256_resnet18.onnx\", export_params=True, opset_version=11)\n",
        "\n",
        "\n",
        "ie = Core()\n",
        "onnx_model = ie.read_model(model=\"Caltech256_resnet18.onnx\")\n",
        "compiled_onnx_model = ie.compile_model(model=onnx_model, device_name=\"CPU\")\n",
        "input_layer = compiled_onnx_model.input(0)\n",
        "output_layer = compiled_onnx_model.output(0)\n",
        "\n",
        "\n",
        "num_correct = 0\n",
        "num_samples = 0\n",
        "for i in range(len(val_dataset)):\n",
        "  img, y = val_dataset[i]\n",
        "\n",
        "  \n",
        "  img = img.unsqueeze(0)\n",
        "  preds = compiled_onnx_model([img])[output_layer]\n",
        "  preds = torch.from_numpy(preds)\n",
        "  preds = torch.softmax(preds, 1)\n",
        "\n",
        "  _, predictions = preds.max(1)\n",
        "  num_correct += (predictions == y).sum()\n",
        "  num_samples += predictions.size(0)\n",
        "print (\"accuracy = \", num_correct/num_samples)"
      ],
      "metadata": {
        "colab": {
          "base_uri": "https://localhost:8080/"
        },
        "id": "IIxEyKiNn0qt",
        "outputId": "21e7a9e3-8c3a-4f74-8b3f-8df854fdcc06"
      },
      "execution_count": null,
      "outputs": [
        {
          "output_type": "stream",
          "name": "stdout",
          "text": [
            "accuracy =  tensor(0.6242)\n"
          ]
        }
      ]
    }
  ]
}